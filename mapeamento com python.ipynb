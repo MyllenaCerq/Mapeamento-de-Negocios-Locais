{
 "cells": [
  {
   "cell_type": "code",
   "execution_count": 6,
   "metadata": {},
   "outputs": [
    {
     "name": "stdout",
     "output_type": "stream",
     "text": [
      "Requirement already satisfied: requests in c:\\users\\mylle\\anaconda3\\lib\\site-packages (2.32.3)\n",
      "Requirement already satisfied: pandas in c:\\users\\mylle\\anaconda3\\lib\\site-packages (2.2.2)\n",
      "Requirement already satisfied: openpyxl in c:\\users\\mylle\\anaconda3\\lib\\site-packages (3.1.5)\n",
      "Requirement already satisfied: python-dotenv in c:\\users\\mylle\\anaconda3\\lib\\site-packages (1.0.0)\n",
      "Requirement already satisfied: charset-normalizer<4,>=2 in c:\\users\\mylle\\anaconda3\\lib\\site-packages (from requests) (3.3.2)\n",
      "Requirement already satisfied: idna<4,>=2.5 in c:\\users\\mylle\\anaconda3\\lib\\site-packages (from requests) (3.7)\n",
      "Requirement already satisfied: urllib3<3,>=1.21.1 in c:\\users\\mylle\\anaconda3\\lib\\site-packages (from requests) (2.2.3)\n",
      "Requirement already satisfied: certifi>=2017.4.17 in c:\\users\\mylle\\anaconda3\\lib\\site-packages (from requests) (2024.8.30)\n",
      "Requirement already satisfied: numpy>=1.26.0 in c:\\users\\mylle\\anaconda3\\lib\\site-packages (from pandas) (1.26.4)\n",
      "Requirement already satisfied: python-dateutil>=2.8.2 in c:\\users\\mylle\\anaconda3\\lib\\site-packages (from pandas) (2.9.0.post0)\n",
      "Requirement already satisfied: pytz>=2020.1 in c:\\users\\mylle\\anaconda3\\lib\\site-packages (from pandas) (2024.1)\n",
      "Requirement already satisfied: tzdata>=2022.7 in c:\\users\\mylle\\anaconda3\\lib\\site-packages (from pandas) (2023.3)\n",
      "Requirement already satisfied: et-xmlfile in c:\\users\\mylle\\anaconda3\\lib\\site-packages (from openpyxl) (1.1.0)\n",
      "Requirement already satisfied: six>=1.5 in c:\\users\\mylle\\anaconda3\\lib\\site-packages (from python-dateutil>=2.8.2->pandas) (1.16.0)\n"
     ]
    }
   ],
   "source": [
    "# Instalação de bibliotecas no Jupyter Notebook\n",
    "!pip install requests pandas openpyxl python-dotenv\n"
   ]
  },
  {
   "cell_type": "code",
   "execution_count": 7,
   "metadata": {},
   "outputs": [],
   "source": [
    "from dotenv import load_dotenv  # Para carregar o arquivo .env\n",
    "import os  # Para acessar variáveis do sistema\n",
    "import requests  # Para fazer as requisições à API\n",
    "import pandas as pd  # Para manipular os dados e salvar na planilha\n"
   ]
  },
  {
   "cell_type": "code",
   "execution_count": 8,
   "metadata": {},
   "outputs": [],
   "source": [
    "# Carregar o arquivo .env\n",
    "load_dotenv()\n",
    "\n",
    "# Obter a chave de API do Google Places\n",
    "API_KEY = os.getenv(\"API_KEY\")\n",
    "\n",
    "# Verificar se a chave foi carregada corretamente\n",
    "if not API_KEY:\n",
    "    raise ValueError(\"A chave de API não foi encontrada. Verifique o arquivo .env.\")\n"
   ]
  },
  {
   "cell_type": "code",
   "execution_count": 9,
   "metadata": {},
   "outputs": [],
   "source": [
    "# URLs da API do Google Places\n",
    "search_url = \"https://maps.googleapis.com/maps/api/place/textsearch/json\"\n",
    "details_url = \"https://maps.googleapis.com/maps/api/place/details/json\"\n",
    "\n",
    "# Parâmetros da busca\n",
    "params = {\n",
    "    \"query\": \"clínicas médicas no Rio de Janeiro\",  # Altere para o tipo de negócio e localização desejados\n",
    "    \"key\": API_KEY\n",
    "}\n"
   ]
  },
  {
   "cell_type": "code",
   "execution_count": 10,
   "metadata": {},
   "outputs": [],
   "source": [
    "# Fazendo a requisição de busca\n",
    "response = requests.get(search_url, params=params)\n",
    "data = response.json()\n",
    "\n",
    "# Lista para armazenar os dados dos negócios\n",
    "negocios = []\n",
    "\n",
    "# Limite de resultados\n",
    "limite = 10\n",
    "contador = 0\n",
    "\n",
    "if \"results\" in data:\n",
    "    for place in data[\"results\"]:\n",
    "        if contador >= limite:\n",
    "            break  # Para o loop após atingir o limite\n",
    "\n",
    "        # Coleta informações básicas\n",
    "        place_id = place.get(\"place_id\")\n",
    "        name = place.get(\"name\", \"N/A\")\n",
    "        address = place.get(\"formatted_address\", \"N/A\")\n",
    "        rating = place.get(\"rating\", \"N/A\")\n",
    "\n",
    "        # Requisição para Place Details para obter telefone e site\n",
    "        details_params = {\n",
    "            \"place_id\": place_id,\n",
    "            \"fields\": \"formatted_phone_number,website\",\n",
    "            \"key\": API_KEY\n",
    "        }\n",
    "        details_response = requests.get(details_url, params=details_params)\n",
    "        details_data = details_response.json()\n",
    "\n",
    "        # Coletando telefone e site\n",
    "        phone = details_data.get(\"result\", {}).get(\"formatted_phone_number\", \"N/A\")\n",
    "        website = details_data.get(\"result\", {}).get(\"website\", \"N/A\")\n",
    "\n",
    "        # Adicionando os dados à lista\n",
    "        negocios.append({\n",
    "            \"Nome\": name,\n",
    "            \"Telefone\": phone,\n",
    "            \"Site/Instagram\": website,\n",
    "            \"Endereço\": address,\n",
    "            \"Avaliação\": rating\n",
    "        })\n",
    "\n",
    "        contador += 1  # Incrementa o contador\n",
    "\n",
    "else:\n",
    "    print(\"Nenhum resultado encontrado.\")\n"
   ]
  },
  {
   "cell_type": "code",
   "execution_count": 13,
   "metadata": {},
   "outputs": [
    {
     "name": "stdout",
     "output_type": "stream",
     "text": [
      "Status da requisição: 200\n",
      "Resposta da API:\n",
      "{'error_message': 'You must enable Billing on the Google Cloud Project at https://console.cloud.google.com/project/_/billing/enable Learn more at https://developers.google.com/maps/gmp-get-started', 'html_attributions': [], 'results': [], 'status': 'REQUEST_DENIED'}\n"
     ]
    }
   ],
   "source": [
    "print(f\"Status da requisição: {response.status_code}\")\n",
    "print(\"Resposta da API:\")\n",
    "print(data)\n"
   ]
  },
  {
   "cell_type": "code",
   "execution_count": 11,
   "metadata": {},
   "outputs": [
    {
     "name": "stdout",
     "output_type": "stream",
     "text": [
      "Nenhum dado para salvar.\n"
     ]
    }
   ],
   "source": [
    "# Verifica se há dados coletados\n",
    "if negocios:\n",
    "    # Convertendo a lista para um DataFrame do pandas\n",
    "    df = pd.DataFrame(negocios)\n",
    "\n",
    "    # Salvando os dados em uma planilha Excel\n",
    "    df.to_excel(\"negocios_locais.xlsx\", index=False)\n",
    "    print(f\"Planilha 'negocios_locais.xlsx' salva com {len(negocios)} resultados!\")\n",
    "else:\n",
    "    print(\"Nenhum dado para salvar.\")\n"
   ]
  }
 ],
 "metadata": {
  "kernelspec": {
   "display_name": "base",
   "language": "python",
   "name": "python3"
  },
  "language_info": {
   "codemirror_mode": {
    "name": "ipython",
    "version": 3
   },
   "file_extension": ".py",
   "mimetype": "text/x-python",
   "name": "python",
   "nbconvert_exporter": "python",
   "pygments_lexer": "ipython3",
   "version": "3.12.7"
  }
 },
 "nbformat": 4,
 "nbformat_minor": 2
}
